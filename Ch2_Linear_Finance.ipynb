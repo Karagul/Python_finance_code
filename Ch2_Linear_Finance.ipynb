{
 "cells": [
  {
   "cell_type": "markdown",
   "metadata": {},
   "source": [
    "# Linear regression with SciPy"
   ]
  },
  {
   "cell_type": "code",
   "execution_count": 1,
   "metadata": {},
   "outputs": [],
   "source": [
    "from scipy import stats\n",
    "\n",
    "stock_returns = [0.065, 0.0265, -0.0593, -0.001, 0.0346]\n",
    "mkt_returns = [0.055, -0.09, -0.041, 0.045, 0.022]\n",
    "beta, alpha, r_value, p_value, std_err = \\\n",
    "stats.linregress(stock_returns, mkt_returns)"
   ]
  },
  {
   "cell_type": "markdown",
   "metadata": {},
   "source": [
    "In the famous CAPM, the relationship between risk and rates of return in a security is described as follows:\n",
    "\n",
    "$  R_{i} = R_{f} + \\beta i(E[R_{mkt}] - R_{f}) $"
   ]
  },
  {
   "cell_type": "markdown",
   "metadata": {},
   "source": [
    "For a security, i, its returns are defined as Ri and its beta as ßi. The CAPM defines the return of the security as the sum of the risk-free rate, Rf, and the multiplication of its beta with the risk premium. The risk premium can be thought of as the market portfolio's excess returns\n",
    "exclusive of the risk-free rate."
   ]
  },
  {
   "cell_type": "markdown",
   "metadata": {},
   "source": [
    "The scipty.stats.linregress function returns five values: the slope of the regression line, the intercept of the regression line, the correlation coefficient, the p-value for a hypothesis test with a null hypothesis of a zero slope, and the standard error of the estimate. We are interested in finding the slope and intercept of the line by printing the values of beta and alpha, respectively:"
   ]
  },
  {
   "cell_type": "code",
   "execution_count": 2,
   "metadata": {},
   "outputs": [
    {
     "name": "stdout",
     "output_type": "stream",
     "text": [
      "0.5077431878770808 -0.008481900352462384\n"
     ]
    }
   ],
   "source": [
    "print(beta, alpha)"
   ]
  },
  {
   "cell_type": "code",
   "execution_count": 3,
   "metadata": {},
   "outputs": [
    {
     "name": "stdout",
     "output_type": "stream",
     "text": [
      "The beta of the stock is 0.5077431878770808 and the alpha is -0.008481900352462384 .\n"
     ]
    }
   ],
   "source": [
    "print('The beta of the stock is', beta, 'and the alpha is', alpha,'.')"
   ]
  },
  {
   "cell_type": "markdown",
   "metadata": {},
   "source": [
    "The equation that describes the SML can be written as follows:\n",
    "$ E[R_{i}] = R_{f} + \\beta i(E[R_{M}] - R_{f}) $"
   ]
  },
  {
   "cell_type": "markdown",
   "metadata": {},
   "source": [
    "The term E[RM]−Rf is the market risk premium, and E[RM] is the expected return on the market portfolio. Rf is the return on the risk-free rate, E[Ri] is the expected return on asset, i, and βi is the beta of the asset."
   ]
  },
  {
   "cell_type": "markdown",
   "metadata": {},
   "source": [
    "Suppose the risk-free rate is 5% and the market risk premium is 8.5%. What is the expected return of the stock? Based on the CAPM, an equity with a beta of 0.5077 would have a risk premium of 0.5077×8.5%, or 4.3%. The risk-free rate is 5%, so the expected return on the equity is 9.3%."
   ]
  },
  {
   "cell_type": "markdown",
   "metadata": {},
   "source": [
    "### Multivariate linear regression of factor models"
   ]
  },
  {
   "cell_type": "markdown",
   "metadata": {},
   "source": [
    "#### Least squares regression with statsmodels"
   ]
  },
  {
   "cell_type": "code",
   "execution_count": 18,
   "metadata": {},
   "outputs": [
    {
     "name": "stdout",
     "output_type": "stream",
     "text": [
      "                            OLS Regression Results                            \n",
      "==============================================================================\n",
      "Dep. Variable:                      y   R-squared:                       0.182\n",
      "Model:                            OLS   Adj. R-squared:                 -5.540\n",
      "Method:                 Least Squares   F-statistic:                   0.03189\n",
      "Date:                Mon, 09 Sep 2019   Prob (F-statistic):              0.999\n",
      "Time:                        21:11:30   Log-Likelihood:                -1.3825\n",
      "No. Observations:                   9   AIC:                             18.76\n",
      "Df Residuals:                       1   BIC:                             20.34\n",
      "Df Model:                           7                                         \n",
      "Covariance Type:            nonrobust                                         \n",
      "==============================================================================\n",
      "                 coef    std err          t      P>|t|      [0.025      0.975]\n",
      "------------------------------------------------------------------------------\n",
      "const         -0.8911      3.960     -0.225      0.859     -51.212      49.429\n",
      "x1             0.4158      5.366      0.077      0.951     -67.760      68.592\n",
      "x2             0.5620      5.122      0.110      0.930     -64.525      65.649\n",
      "x3             0.2126      4.700      0.045      0.971     -59.502      59.927\n",
      "x4             1.4137      8.632      0.164      0.897    -108.262     111.089\n",
      "x5            -0.1511      3.762     -0.040      0.974     -47.946      47.644\n",
      "x6            -0.7356      7.091     -0.104      0.934     -90.833      89.362\n",
      "x7             0.9063      2.579      0.351      0.785     -31.867      33.680\n",
      "==============================================================================\n",
      "Omnibus:                        1.522   Durbin-Watson:                   1.267\n",
      "Prob(Omnibus):                  0.467   Jarque-Bera (JB):                0.982\n",
      "Skew:                           0.720   Prob(JB):                        0.612\n",
      "Kurtosis:                       2.261   Cond. No.                         85.6\n",
      "==============================================================================\n",
      "\n",
      "Warnings:\n",
      "[1] Standard Errors assume that the covariance matrix of the errors is correctly specified.\n"
     ]
    },
    {
     "name": "stderr",
     "output_type": "stream",
     "text": [
      "C:\\Users\\Nick\\Anaconda3\\lib\\site-packages\\scipy\\stats\\stats.py:1450: UserWarning: kurtosistest only valid for n>=20 ... continuing anyway, n=9\n",
      "  \"anyway, n=%i\" % int(n))\n"
     ]
    }
   ],
   "source": [
    "import numpy as np\n",
    "import statsmodels.api as sm\n",
    "\n",
    "# Generate some sample data\n",
    "num_periods = 9\n",
    "all_values = np.array([np.random.random(8) \\\n",
    "                       for i in range(num_periods)])\n",
    "\n",
    "# Filter the data\n",
    "y_values = all_values[:, 0] # First column values as Y\n",
    "x_values = all_values[:, 1:] # All other values as X\n",
    "x_values = sm.add_constant(x_values) # Include the intercept\n",
    "results = sm.OLS(y_values, x_values).fit() # Regress and fit the model\n",
    "\n",
    "print(results.summary())"
   ]
  },
  {
   "cell_type": "code",
   "execution_count": 19,
   "metadata": {},
   "outputs": [
    {
     "name": "stdout",
     "output_type": "stream",
     "text": [
      "[-0.8910527   0.41577988  0.56202811  0.21260681  1.41366702 -0.1511463\n",
      " -0.73558972  0.90628935]\n"
     ]
    }
   ],
   "source": [
    "print(results.params)"
   ]
  },
  {
   "cell_type": "markdown",
   "metadata": {},
   "source": [
    "#### A simple linear optimization problem with 2 variables"
   ]
  },
  {
   "cell_type": "code",
   "execution_count": 20,
   "metadata": {},
   "outputs": [
    {
     "name": "stdout",
     "output_type": "stream",
     "text": [
      "Maximization Results:\n",
      "x = 20.0\n",
      "y = 60.0\n"
     ]
    }
   ],
   "source": [
    "import pulp\n",
    "\n",
    "x = pulp.LpVariable('x', lowBound=0)\n",
    "y = pulp.LpVariable('y', lowBound=0)\n",
    "problem = pulp.LpProblem(\n",
    "    'A simple maximization objective',\n",
    "    pulp.LpMaximize)\n",
    "problem += 3*x + 2*y, 'The objective function'\n",
    "problem += 2*x + y <= 100, '1st constraint'\n",
    "problem += x + y <= 80, '2nd constraint'\n",
    "problem += x <= 40, '3rd constraint'\n",
    "problem.solve()\n",
    "\n",
    "print(\"Maximization Results:\")\n",
    "for variable in problem.variables():\n",
    "    print(variable.name, '=', variable.varValue)"
   ]
  },
  {
   "cell_type": "code",
   "execution_count": null,
   "metadata": {},
   "outputs": [],
   "source": []
  }
 ],
 "metadata": {
  "kernelspec": {
   "display_name": "Python 3",
   "language": "python",
   "name": "python3"
  },
  "language_info": {
   "codemirror_mode": {
    "name": "ipython",
    "version": 3
   },
   "file_extension": ".py",
   "mimetype": "text/x-python",
   "name": "python",
   "nbconvert_exporter": "python",
   "pygments_lexer": "ipython3",
   "version": "3.6.9"
  }
 },
 "nbformat": 4,
 "nbformat_minor": 2
}
