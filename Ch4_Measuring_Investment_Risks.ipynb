{
 "cells": [
  {
   "cell_type": "code",
   "execution_count": 1,
   "metadata": {},
   "outputs": [],
   "source": [
    "import pandas as pd\n",
    "pd.core.common.is_list_like = pd.api.types.is_list_like\n",
    "from pandas_datareader import data as wb"
   ]
  },
  {
   "cell_type": "code",
   "execution_count": 28,
   "metadata": {},
   "outputs": [
    {
     "name": "stdout",
     "output_type": "stream",
     "text": [
      "[*********************100%***********************]  1 of 1 downloaded\n"
     ]
    }
   ],
   "source": [
    "from pandas_datareader import data as pdr\n",
    "import yfinance as yf\n",
    "\n",
    "data = yf.download('SPY', start = '2012-01-01', end='2017-01-01')"
   ]
  },
  {
   "cell_type": "code",
   "execution_count": 30,
   "metadata": {},
   "outputs": [
    {
     "data": {
      "text/html": [
       "<div>\n",
       "<style scoped>\n",
       "    .dataframe tbody tr th:only-of-type {\n",
       "        vertical-align: middle;\n",
       "    }\n",
       "\n",
       "    .dataframe tbody tr th {\n",
       "        vertical-align: top;\n",
       "    }\n",
       "\n",
       "    .dataframe thead th {\n",
       "        text-align: right;\n",
       "    }\n",
       "</style>\n",
       "<table border=\"1\" class=\"dataframe\">\n",
       "  <thead>\n",
       "    <tr style=\"text-align: right;\">\n",
       "      <th></th>\n",
       "      <th>Open</th>\n",
       "      <th>High</th>\n",
       "      <th>Low</th>\n",
       "      <th>Close</th>\n",
       "      <th>Adj Close</th>\n",
       "      <th>Volume</th>\n",
       "    </tr>\n",
       "    <tr>\n",
       "      <th>Date</th>\n",
       "      <th></th>\n",
       "      <th></th>\n",
       "      <th></th>\n",
       "      <th></th>\n",
       "      <th></th>\n",
       "      <th></th>\n",
       "    </tr>\n",
       "  </thead>\n",
       "  <tbody>\n",
       "    <tr>\n",
       "      <td>2012-01-03</td>\n",
       "      <td>127.76</td>\n",
       "      <td>128.38</td>\n",
       "      <td>127.43</td>\n",
       "      <td>127.50</td>\n",
       "      <td>109.21</td>\n",
       "      <td>193697900</td>\n",
       "    </tr>\n",
       "    <tr>\n",
       "      <td>2012-01-04</td>\n",
       "      <td>127.20</td>\n",
       "      <td>127.81</td>\n",
       "      <td>126.71</td>\n",
       "      <td>127.70</td>\n",
       "      <td>109.38</td>\n",
       "      <td>127186500</td>\n",
       "    </tr>\n",
       "    <tr>\n",
       "      <td>2012-01-05</td>\n",
       "      <td>127.01</td>\n",
       "      <td>128.23</td>\n",
       "      <td>126.43</td>\n",
       "      <td>128.04</td>\n",
       "      <td>109.67</td>\n",
       "      <td>173895000</td>\n",
       "    </tr>\n",
       "    <tr>\n",
       "      <td>2012-01-06</td>\n",
       "      <td>128.20</td>\n",
       "      <td>128.22</td>\n",
       "      <td>127.29</td>\n",
       "      <td>127.71</td>\n",
       "      <td>109.39</td>\n",
       "      <td>148050000</td>\n",
       "    </tr>\n",
       "    <tr>\n",
       "      <td>2012-01-09</td>\n",
       "      <td>128.00</td>\n",
       "      <td>128.18</td>\n",
       "      <td>127.41</td>\n",
       "      <td>128.02</td>\n",
       "      <td>109.65</td>\n",
       "      <td>99530200</td>\n",
       "    </tr>\n",
       "  </tbody>\n",
       "</table>\n",
       "</div>"
      ],
      "text/plain": [
       "              Open    High     Low   Close  Adj Close     Volume\n",
       "Date                                                            \n",
       "2012-01-03  127.76  128.38  127.43  127.50     109.21  193697900\n",
       "2012-01-04  127.20  127.81  126.71  127.70     109.38  127186500\n",
       "2012-01-05  127.01  128.23  126.43  128.04     109.67  173895000\n",
       "2012-01-06  128.20  128.22  127.29  127.71     109.39  148050000\n",
       "2012-01-09  128.00  128.18  127.41  128.02     109.65   99530200"
      ]
     },
     "execution_count": 30,
     "metadata": {},
     "output_type": "execute_result"
    }
   ],
   "source": [
    "data.head()"
   ]
  },
  {
   "cell_type": "code",
   "execution_count": 31,
   "metadata": {},
   "outputs": [
    {
     "data": {
      "text/html": [
       "<div>\n",
       "<style scoped>\n",
       "    .dataframe tbody tr th:only-of-type {\n",
       "        vertical-align: middle;\n",
       "    }\n",
       "\n",
       "    .dataframe tbody tr th {\n",
       "        vertical-align: top;\n",
       "    }\n",
       "\n",
       "    .dataframe thead th {\n",
       "        text-align: right;\n",
       "    }\n",
       "</style>\n",
       "<table border=\"1\" class=\"dataframe\">\n",
       "  <thead>\n",
       "    <tr style=\"text-align: right;\">\n",
       "      <th></th>\n",
       "      <th>Date</th>\n",
       "      <th>Open</th>\n",
       "      <th>High</th>\n",
       "      <th>Low</th>\n",
       "      <th>Close</th>\n",
       "      <th>Volume</th>\n",
       "      <th>Adj Close</th>\n",
       "    </tr>\n",
       "    <tr>\n",
       "      <th>Date</th>\n",
       "      <th></th>\n",
       "      <th></th>\n",
       "      <th></th>\n",
       "      <th></th>\n",
       "      <th></th>\n",
       "      <th></th>\n",
       "      <th></th>\n",
       "    </tr>\n",
       "  </thead>\n",
       "  <tbody>\n",
       "    <tr>\n",
       "      <td>2012-01-03</td>\n",
       "      <td>NaN</td>\n",
       "      <td>127.76</td>\n",
       "      <td>128.38</td>\n",
       "      <td>127.43</td>\n",
       "      <td>127.50</td>\n",
       "      <td>193697900</td>\n",
       "      <td>109.21</td>\n",
       "    </tr>\n",
       "    <tr>\n",
       "      <td>2012-01-04</td>\n",
       "      <td>NaN</td>\n",
       "      <td>127.20</td>\n",
       "      <td>127.81</td>\n",
       "      <td>126.71</td>\n",
       "      <td>127.70</td>\n",
       "      <td>127186500</td>\n",
       "      <td>109.38</td>\n",
       "    </tr>\n",
       "    <tr>\n",
       "      <td>2012-01-05</td>\n",
       "      <td>NaN</td>\n",
       "      <td>127.01</td>\n",
       "      <td>128.23</td>\n",
       "      <td>126.43</td>\n",
       "      <td>128.04</td>\n",
       "      <td>173895000</td>\n",
       "      <td>109.67</td>\n",
       "    </tr>\n",
       "    <tr>\n",
       "      <td>2012-01-06</td>\n",
       "      <td>NaN</td>\n",
       "      <td>128.20</td>\n",
       "      <td>128.22</td>\n",
       "      <td>127.29</td>\n",
       "      <td>127.71</td>\n",
       "      <td>148050000</td>\n",
       "      <td>109.39</td>\n",
       "    </tr>\n",
       "    <tr>\n",
       "      <td>2012-01-09</td>\n",
       "      <td>NaN</td>\n",
       "      <td>128.00</td>\n",
       "      <td>128.18</td>\n",
       "      <td>127.41</td>\n",
       "      <td>128.02</td>\n",
       "      <td>99530200</td>\n",
       "      <td>109.65</td>\n",
       "    </tr>\n",
       "    <tr>\n",
       "      <td>...</td>\n",
       "      <td>...</td>\n",
       "      <td>...</td>\n",
       "      <td>...</td>\n",
       "      <td>...</td>\n",
       "      <td>...</td>\n",
       "      <td>...</td>\n",
       "      <td>...</td>\n",
       "    </tr>\n",
       "    <tr>\n",
       "      <td>2016-12-23</td>\n",
       "      <td>NaN</td>\n",
       "      <td>225.43</td>\n",
       "      <td>225.72</td>\n",
       "      <td>225.21</td>\n",
       "      <td>225.71</td>\n",
       "      <td>36697800</td>\n",
       "      <td>214.29</td>\n",
       "    </tr>\n",
       "    <tr>\n",
       "      <td>2016-12-27</td>\n",
       "      <td>NaN</td>\n",
       "      <td>226.02</td>\n",
       "      <td>226.73</td>\n",
       "      <td>226.00</td>\n",
       "      <td>226.27</td>\n",
       "      <td>42672500</td>\n",
       "      <td>214.82</td>\n",
       "    </tr>\n",
       "    <tr>\n",
       "      <td>2016-12-28</td>\n",
       "      <td>NaN</td>\n",
       "      <td>226.57</td>\n",
       "      <td>226.59</td>\n",
       "      <td>224.27</td>\n",
       "      <td>224.40</td>\n",
       "      <td>64095000</td>\n",
       "      <td>213.05</td>\n",
       "    </tr>\n",
       "    <tr>\n",
       "      <td>2016-12-29</td>\n",
       "      <td>NaN</td>\n",
       "      <td>224.48</td>\n",
       "      <td>224.89</td>\n",
       "      <td>223.84</td>\n",
       "      <td>224.35</td>\n",
       "      <td>48696100</td>\n",
       "      <td>213.00</td>\n",
       "    </tr>\n",
       "    <tr>\n",
       "      <td>2016-12-30</td>\n",
       "      <td>NaN</td>\n",
       "      <td>224.73</td>\n",
       "      <td>224.83</td>\n",
       "      <td>222.73</td>\n",
       "      <td>223.53</td>\n",
       "      <td>108998300</td>\n",
       "      <td>212.22</td>\n",
       "    </tr>\n",
       "  </tbody>\n",
       "</table>\n",
       "<p>1258 rows × 7 columns</p>\n",
       "</div>"
      ],
      "text/plain": [
       "            Date    Open    High     Low   Close     Volume  Adj Close\n",
       "Date                                                                  \n",
       "2012-01-03   NaN  127.76  128.38  127.43  127.50  193697900     109.21\n",
       "2012-01-04   NaN  127.20  127.81  126.71  127.70  127186500     109.38\n",
       "2012-01-05   NaN  127.01  128.23  126.43  128.04  173895000     109.67\n",
       "2012-01-06   NaN  128.20  128.22  127.29  127.71  148050000     109.39\n",
       "2012-01-09   NaN  128.00  128.18  127.41  128.02   99530200     109.65\n",
       "...          ...     ...     ...     ...     ...        ...        ...\n",
       "2016-12-23   NaN  225.43  225.72  225.21  225.71   36697800     214.29\n",
       "2016-12-27   NaN  226.02  226.73  226.00  226.27   42672500     214.82\n",
       "2016-12-28   NaN  226.57  226.59  224.27  224.40   64095000     213.05\n",
       "2016-12-29   NaN  224.48  224.89  223.84  224.35   48696100     213.00\n",
       "2016-12-30   NaN  224.73  224.83  222.73  223.53  108998300     212.22\n",
       "\n",
       "[1258 rows x 7 columns]"
      ]
     },
     "execution_count": 31,
     "metadata": {},
     "output_type": "execute_result"
    }
   ],
   "source": [
    "cols = ['Date', 'Open', 'High', 'Low', 'Close', 'Volume', 'Adj Close']\n",
    "data.reindex(columns=cols)"
   ]
  },
  {
   "cell_type": "code",
   "execution_count": 42,
   "metadata": {},
   "outputs": [],
   "source": [
    "#import pandas_datareader.data as web\n",
    "#import datetime as dt    \n",
    "\n",
    "#start = dt.datetime(2018,1,1)\n",
    "#end = dt.datetime(2019,1,1)\n",
    "\n",
    "#aapl = web.DataReader('AAPL', 'iex', start, end)\n",
    "\n",
    "#aapl.shape"
   ]
  },
  {
   "cell_type": "code",
   "execution_count": 32,
   "metadata": {},
   "outputs": [],
   "source": [
    "#AAPL_IEX = wb.DataReader('AAPL', data_source='iex', start='2015-1-1')"
   ]
  },
  {
   "cell_type": "code",
   "execution_count": 33,
   "metadata": {},
   "outputs": [],
   "source": [
    "#AAPL_IEX.head()"
   ]
  },
  {
   "cell_type": "code",
   "execution_count": 34,
   "metadata": {},
   "outputs": [],
   "source": [
    "#GOOGL_IEX = wb.DataReader('GOOGL', data_source='iex', start='2015-1-1')"
   ]
  },
  {
   "cell_type": "code",
   "execution_count": null,
   "metadata": {},
   "outputs": [],
   "source": [
    "#GOOGL_IEX.head()"
   ]
  },
  {
   "cell_type": "code",
   "execution_count": 35,
   "metadata": {},
   "outputs": [],
   "source": [
    "#AAPL = wb.DataReader('AAPL', data_source='morningstar', start='2015-1-1')"
   ]
  },
  {
   "cell_type": "code",
   "execution_count": 36,
   "metadata": {},
   "outputs": [],
   "source": [
    "#AAPL.head()"
   ]
  },
  {
   "cell_type": "code",
   "execution_count": 37,
   "metadata": {},
   "outputs": [],
   "source": [
    "#GOOGL = wb.DataReader('GOOGL', data_source='morningstar', start='2015-1-1')"
   ]
  },
  {
   "cell_type": "code",
   "execution_count": 38,
   "metadata": {},
   "outputs": [],
   "source": [
    "#GOOGL.head()"
   ]
  },
  {
   "cell_type": "markdown",
   "metadata": {},
   "source": [
    "### Security risks and returns"
   ]
  },
  {
   "cell_type": "markdown",
   "metadata": {},
   "source": [
    "#### Calculating Rate of Return of a Security using Simple Returns:"
   ]
  },
  {
   "cell_type": "code",
   "execution_count": 43,
   "metadata": {},
   "outputs": [],
   "source": [
    "import numpy as np\n",
    "import pandas as pd\n",
    "import matplotlib.pyplot as plt"
   ]
  },
  {
   "cell_type": "code",
   "execution_count": 44,
   "metadata": {},
   "outputs": [],
   "source": [
    "data = 'C:/Users/Nick/Desktop/Desktop/Lab/Packt Book/9781789346374-HANDSON_PYTHON_FOR_FINANCE/Hands-on-Python-for-Finance-master/Chapter 4/MSFT_stock.csv'\n",
    "MSFT = pd.read_csv(data, index_col = 'Date')"
   ]
  },
  {
   "cell_type": "code",
   "execution_count": 45,
   "metadata": {},
   "outputs": [
    {
     "data": {
      "text/html": [
       "<div>\n",
       "<style scoped>\n",
       "    .dataframe tbody tr th:only-of-type {\n",
       "        vertical-align: middle;\n",
       "    }\n",
       "\n",
       "    .dataframe tbody tr th {\n",
       "        vertical-align: top;\n",
       "    }\n",
       "\n",
       "    .dataframe thead th {\n",
       "        text-align: right;\n",
       "    }\n",
       "</style>\n",
       "<table border=\"1\" class=\"dataframe\">\n",
       "  <thead>\n",
       "    <tr style=\"text-align: right;\">\n",
       "      <th></th>\n",
       "      <th>Open</th>\n",
       "      <th>High</th>\n",
       "      <th>Low</th>\n",
       "      <th>Close</th>\n",
       "      <th>Adj Close</th>\n",
       "      <th>Volume</th>\n",
       "    </tr>\n",
       "    <tr>\n",
       "      <th>Date</th>\n",
       "      <th></th>\n",
       "      <th></th>\n",
       "      <th></th>\n",
       "      <th></th>\n",
       "      <th></th>\n",
       "      <th></th>\n",
       "    </tr>\n",
       "  </thead>\n",
       "  <tbody>\n",
       "    <tr>\n",
       "      <td>1999-12-31</td>\n",
       "      <td>58.75000</td>\n",
       "      <td>58.8750</td>\n",
       "      <td>58.1250</td>\n",
       "      <td>58.37500</td>\n",
       "      <td>38.771053</td>\n",
       "      <td>12517600</td>\n",
       "    </tr>\n",
       "    <tr>\n",
       "      <td>2000-01-03</td>\n",
       "      <td>58.68750</td>\n",
       "      <td>59.3125</td>\n",
       "      <td>56.0000</td>\n",
       "      <td>58.28125</td>\n",
       "      <td>38.708794</td>\n",
       "      <td>53228400</td>\n",
       "    </tr>\n",
       "    <tr>\n",
       "      <td>2000-01-04</td>\n",
       "      <td>56.78125</td>\n",
       "      <td>58.5625</td>\n",
       "      <td>56.1250</td>\n",
       "      <td>56.31250</td>\n",
       "      <td>37.401215</td>\n",
       "      <td>54119000</td>\n",
       "    </tr>\n",
       "    <tr>\n",
       "      <td>2000-01-05</td>\n",
       "      <td>55.56250</td>\n",
       "      <td>58.1875</td>\n",
       "      <td>54.6875</td>\n",
       "      <td>56.90625</td>\n",
       "      <td>37.795563</td>\n",
       "      <td>64059600</td>\n",
       "    </tr>\n",
       "    <tr>\n",
       "      <td>2000-01-06</td>\n",
       "      <td>56.09375</td>\n",
       "      <td>56.9375</td>\n",
       "      <td>54.1875</td>\n",
       "      <td>55.00000</td>\n",
       "      <td>36.529484</td>\n",
       "      <td>54976600</td>\n",
       "    </tr>\n",
       "  </tbody>\n",
       "</table>\n",
       "</div>"
      ],
      "text/plain": [
       "                Open     High      Low     Close  Adj Close    Volume\n",
       "Date                                                                 \n",
       "1999-12-31  58.75000  58.8750  58.1250  58.37500  38.771053  12517600\n",
       "2000-01-03  58.68750  59.3125  56.0000  58.28125  38.708794  53228400\n",
       "2000-01-04  56.78125  58.5625  56.1250  56.31250  37.401215  54119000\n",
       "2000-01-05  55.56250  58.1875  54.6875  56.90625  37.795563  64059600\n",
       "2000-01-06  56.09375  56.9375  54.1875  55.00000  36.529484  54976600"
      ]
     },
     "execution_count": 45,
     "metadata": {},
     "output_type": "execute_result"
    }
   ],
   "source": [
    "MSFT.head()"
   ]
  },
  {
   "cell_type": "code",
   "execution_count": 46,
   "metadata": {},
   "outputs": [
    {
     "data": {
      "text/html": [
       "<div>\n",
       "<style scoped>\n",
       "    .dataframe tbody tr th:only-of-type {\n",
       "        vertical-align: middle;\n",
       "    }\n",
       "\n",
       "    .dataframe tbody tr th {\n",
       "        vertical-align: top;\n",
       "    }\n",
       "\n",
       "    .dataframe thead th {\n",
       "        text-align: right;\n",
       "    }\n",
       "</style>\n",
       "<table border=\"1\" class=\"dataframe\">\n",
       "  <thead>\n",
       "    <tr style=\"text-align: right;\">\n",
       "      <th></th>\n",
       "      <th>Open</th>\n",
       "      <th>High</th>\n",
       "      <th>Low</th>\n",
       "      <th>Close</th>\n",
       "      <th>Adj Close</th>\n",
       "      <th>Volume</th>\n",
       "    </tr>\n",
       "    <tr>\n",
       "      <th>Date</th>\n",
       "      <th></th>\n",
       "      <th></th>\n",
       "      <th></th>\n",
       "      <th></th>\n",
       "      <th></th>\n",
       "      <th></th>\n",
       "    </tr>\n",
       "  </thead>\n",
       "  <tbody>\n",
       "    <tr>\n",
       "      <td>2017-12-06</td>\n",
       "      <td>81.550003</td>\n",
       "      <td>83.139999</td>\n",
       "      <td>81.430000</td>\n",
       "      <td>82.779999</td>\n",
       "      <td>82.779999</td>\n",
       "      <td>26162100</td>\n",
       "    </tr>\n",
       "    <tr>\n",
       "      <td>2017-12-07</td>\n",
       "      <td>82.540001</td>\n",
       "      <td>82.800003</td>\n",
       "      <td>82.000000</td>\n",
       "      <td>82.489998</td>\n",
       "      <td>82.489998</td>\n",
       "      <td>23184500</td>\n",
       "    </tr>\n",
       "    <tr>\n",
       "      <td>2017-12-08</td>\n",
       "      <td>83.629997</td>\n",
       "      <td>84.580002</td>\n",
       "      <td>83.330002</td>\n",
       "      <td>84.160004</td>\n",
       "      <td>84.160004</td>\n",
       "      <td>24489100</td>\n",
       "    </tr>\n",
       "    <tr>\n",
       "      <td>2017-12-11</td>\n",
       "      <td>84.290001</td>\n",
       "      <td>85.370003</td>\n",
       "      <td>84.120003</td>\n",
       "      <td>85.230003</td>\n",
       "      <td>85.230003</td>\n",
       "      <td>20121700</td>\n",
       "    </tr>\n",
       "    <tr>\n",
       "      <td>2017-12-12</td>\n",
       "      <td>85.309998</td>\n",
       "      <td>86.050003</td>\n",
       "      <td>85.080002</td>\n",
       "      <td>85.529999</td>\n",
       "      <td>85.529999</td>\n",
       "      <td>7805031</td>\n",
       "    </tr>\n",
       "  </tbody>\n",
       "</table>\n",
       "</div>"
      ],
      "text/plain": [
       "                 Open       High        Low      Close  Adj Close    Volume\n",
       "Date                                                                       \n",
       "2017-12-06  81.550003  83.139999  81.430000  82.779999  82.779999  26162100\n",
       "2017-12-07  82.540001  82.800003  82.000000  82.489998  82.489998  23184500\n",
       "2017-12-08  83.629997  84.580002  83.330002  84.160004  84.160004  24489100\n",
       "2017-12-11  84.290001  85.370003  84.120003  85.230003  85.230003  20121700\n",
       "2017-12-12  85.309998  86.050003  85.080002  85.529999  85.529999   7805031"
      ]
     },
     "execution_count": 46,
     "metadata": {},
     "output_type": "execute_result"
    }
   ],
   "source": [
    "MSFT.tail()"
   ]
  },
  {
   "cell_type": "code",
   "execution_count": 47,
   "metadata": {},
   "outputs": [
    {
     "name": "stdout",
     "output_type": "stream",
     "text": [
      "Date\n",
      "1999-12-31         NaN\n",
      "2000-01-03   -0.001606\n",
      "2000-01-04   -0.033780\n",
      "2000-01-05    0.010544\n",
      "2000-01-06   -0.033498\n",
      "2000-01-07    0.013068\n",
      "2000-01-10    0.007291\n",
      "2000-01-11   -0.025612\n",
      "2000-01-12   -0.032571\n",
      "2000-01-13    0.018901\n",
      "Name: simple_return, dtype: float64\n"
     ]
    }
   ],
   "source": [
    "MSFT['simple_return'] = (MSFT['Close'] / MSFT['Close'].shift(1)) - 1\n",
    "print (MSFT['simple_return'].head(10))"
   ]
  },
  {
   "cell_type": "code",
   "execution_count": 48,
   "metadata": {},
   "outputs": [],
   "source": [
    "MSFT.index=pd.to_datetime(MSFT.index)"
   ]
  },
  {
   "cell_type": "code",
   "execution_count": 49,
   "metadata": {},
   "outputs": [
    {
     "data": {
      "image/png": "[encoded data removed]",
      "text/plain": [
       "<Figure size 648x360 with 1 Axes>"
      ]
     },
     "metadata": {
      "needs_background": "light"
     },
     "output_type": "display_data"
    }
   ],
   "source": [
    "MSFT['simple_return'].plot(figsize=(9,5))\n",
    "plt.show()"
   ]
  },
  {
   "cell_type": "code",
   "execution_count": 50,
   "metadata": {},
   "outputs": [
    {
     "data": {
      "text/plain": [
       "0.000273"
      ]
     },
     "execution_count": 50,
     "metadata": {},
     "output_type": "execute_result"
    }
   ],
   "source": [
    "MSFT_average_return=MSFT['simple_return'].mean()\n",
    "round(MSFT_average_return, 6)"
   ]
  },
  {
   "cell_type": "code",
   "execution_count": 51,
   "metadata": {},
   "outputs": [
    {
     "data": {
      "text/plain": [
       "0.06820496450977334"
      ]
     },
     "execution_count": 51,
     "metadata": {},
     "output_type": "execute_result"
    }
   ],
   "source": [
    "MSFT_average_return=MSFT['simple_return'].mean()*250\n",
    "MSFT_average_return"
   ]
  },
  {
   "cell_type": "code",
   "execution_count": 52,
   "metadata": {},
   "outputs": [
    {
     "name": "stdout",
     "output_type": "stream",
     "text": [
      "6.820496450977334%\n"
     ]
    }
   ],
   "source": [
    "print(str(MSFT_average_return * 100)+ '%')"
   ]
  },
  {
   "cell_type": "markdown",
   "metadata": {},
   "source": [
    "#### Calculating Rate of Return of a Security using Logarithmic Returns:"
   ]
  },
  {
   "cell_type": "code",
   "execution_count": 17,
   "metadata": {},
   "outputs": [],
   "source": [
    "import numpy as np\n",
    "import pandas as pd\n",
    "import matplotlib.pyplot as plt"
   ]
  },
  {
   "cell_type": "code",
   "execution_count": 18,
   "metadata": {},
   "outputs": [],
   "source": [
    "MSFT = pd.read_csv(data, index_col = 'Date')"
   ]
  },
  {
   "cell_type": "code",
   "execution_count": 19,
   "metadata": {},
   "outputs": [
    {
     "name": "stdout",
     "output_type": "stream",
     "text": [
      "Date\n",
      "1999-12-31         NaN\n",
      "2000-01-03   -0.001607\n",
      "2000-01-04   -0.034364\n",
      "2000-01-05    0.010489\n",
      "2000-01-06   -0.034072\n",
      "                ...   \n",
      "2017-12-06    0.014480\n",
      "2017-12-07   -0.003509\n",
      "2017-12-08    0.020043\n",
      "2017-12-11    0.012634\n",
      "2017-12-12    0.003514\n",
      "Name: log_return, Length: 4517, dtype: float64\n"
     ]
    }
   ],
   "source": [
    "MSFT['log_return'] = np.log(MSFT['Close'] / MSFT['Close'].shift(1))\n",
    "print (MSFT['log_return'])"
   ]
  },
  {
   "cell_type": "code",
   "execution_count": 20,
   "metadata": {},
   "outputs": [
    {
     "data": {
      "image/png": "[encoded data removed]",
      "text/plain": [
       "<Figure size 576x360 with 1 Axes>"
      ]
     },
     "metadata": {
      "needs_background": "light"
     },
     "output_type": "display_data"
    }
   ],
   "source": [
    "MSFT.index=pd.to_datetime(MSFT.index)\n",
    "MSFT['log_return'].plot(figsize=(8, 5))\n",
    "plt.show()"
   ]
  },
  {
   "cell_type": "code",
   "execution_count": 21,
   "metadata": {},
   "outputs": [
    {
     "data": {
      "text/plain": [
       "8.45835836828664e-05"
      ]
     },
     "execution_count": 21,
     "metadata": {},
     "output_type": "execute_result"
    }
   ],
   "source": [
    "log_return_d = MSFT['log_return'].mean()\n",
    "log_return_d"
   ]
  },
  {
   "cell_type": "code",
   "execution_count": 22,
   "metadata": {},
   "outputs": [
    {
     "data": {
      "text/plain": [
       "0.0211458959207166"
      ]
     },
     "execution_count": 22,
     "metadata": {},
     "output_type": "execute_result"
    }
   ],
   "source": [
    "log_return_a = MSFT['log_return'].mean() * 250\n",
    "log_return_a"
   ]
  },
  {
   "cell_type": "markdown",
   "metadata": {},
   "source": [
    "#### Calaculating the risk of a Security"
   ]
  },
  {
   "cell_type": "code",
   "execution_count": 53,
   "metadata": {},
   "outputs": [],
   "source": [
    "import numpy as np\n",
    "import pandas as pd\n",
    "import matplotlib.pyplot as plt"
   ]
  },
  {
   "cell_type": "code",
   "execution_count": 57,
   "metadata": {},
   "outputs": [],
   "source": [
    "security_data = pd.read_csv('MSFT_AAPL_stock.csv', index_col = 'Date')"
   ]
  },
  {
   "cell_type": "code",
   "execution_count": 58,
   "metadata": {},
   "outputs": [],
   "source": [
    "security_data.index = pd.to_datetime(security_data.index)"
   ]
  },
  {
   "cell_type": "code",
   "execution_count": 59,
   "metadata": {},
   "outputs": [
    {
     "data": {
      "text/html": [
       "<div>\n",
       "<style scoped>\n",
       "    .dataframe tbody tr th:only-of-type {\n",
       "        vertical-align: middle;\n",
       "    }\n",
       "\n",
       "    .dataframe tbody tr th {\n",
       "        vertical-align: top;\n",
       "    }\n",
       "\n",
       "    .dataframe thead th {\n",
       "        text-align: right;\n",
       "    }\n",
       "</style>\n",
       "<table border=\"1\" class=\"dataframe\">\n",
       "  <thead>\n",
       "    <tr style=\"text-align: right;\">\n",
       "      <th></th>\n",
       "      <th>MSFT</th>\n",
       "      <th>AAPL</th>\n",
       "    </tr>\n",
       "    <tr>\n",
       "      <th>Date</th>\n",
       "      <th></th>\n",
       "      <th></th>\n",
       "    </tr>\n",
       "  </thead>\n",
       "  <tbody>\n",
       "    <tr>\n",
       "      <td>1999-12-31</td>\n",
       "      <td>38.965767</td>\n",
       "      <td>3.303425</td>\n",
       "    </tr>\n",
       "    <tr>\n",
       "      <td>2000-01-03</td>\n",
       "      <td>38.903194</td>\n",
       "      <td>3.596616</td>\n",
       "    </tr>\n",
       "    <tr>\n",
       "      <td>2000-01-04</td>\n",
       "      <td>37.589046</td>\n",
       "      <td>3.293384</td>\n",
       "    </tr>\n",
       "    <tr>\n",
       "      <td>2000-01-05</td>\n",
       "      <td>37.985374</td>\n",
       "      <td>3.341579</td>\n",
       "    </tr>\n",
       "    <tr>\n",
       "      <td>2000-01-06</td>\n",
       "      <td>36.712940</td>\n",
       "      <td>3.052405</td>\n",
       "    </tr>\n",
       "  </tbody>\n",
       "</table>\n",
       "</div>"
      ],
      "text/plain": [
       "                 MSFT      AAPL\n",
       "Date                           \n",
       "1999-12-31  38.965767  3.303425\n",
       "2000-01-03  38.903194  3.596616\n",
       "2000-01-04  37.589046  3.293384\n",
       "2000-01-05  37.985374  3.341579\n",
       "2000-01-06  36.712940  3.052405"
      ]
     },
     "execution_count": 59,
     "metadata": {},
     "output_type": "execute_result"
    }
   ],
   "source": [
    "security_data.head()"
   ]
  },
  {
   "cell_type": "code",
   "execution_count": 60,
   "metadata": {},
   "outputs": [],
   "source": [
    "security_returns = np.log(security_data / security_data.shift(1))"
   ]
  },
  {
   "cell_type": "code",
   "execution_count": 61,
   "metadata": {},
   "outputs": [
    {
     "data": {
      "text/html": [
       "<div>\n",
       "<style scoped>\n",
       "    .dataframe tbody tr th:only-of-type {\n",
       "        vertical-align: middle;\n",
       "    }\n",
       "\n",
       "    .dataframe tbody tr th {\n",
       "        vertical-align: top;\n",
       "    }\n",
       "\n",
       "    .dataframe thead th {\n",
       "        text-align: right;\n",
       "    }\n",
       "</style>\n",
       "<table border=\"1\" class=\"dataframe\">\n",
       "  <thead>\n",
       "    <tr style=\"text-align: right;\">\n",
       "      <th></th>\n",
       "      <th>MSFT</th>\n",
       "      <th>AAPL</th>\n",
       "    </tr>\n",
       "    <tr>\n",
       "      <th>Date</th>\n",
       "      <th></th>\n",
       "      <th></th>\n",
       "    </tr>\n",
       "  </thead>\n",
       "  <tbody>\n",
       "    <tr>\n",
       "      <td>1999-12-31</td>\n",
       "      <td>NaN</td>\n",
       "      <td>NaN</td>\n",
       "    </tr>\n",
       "    <tr>\n",
       "      <td>2000-01-03</td>\n",
       "      <td>-0.001607</td>\n",
       "      <td>0.085034</td>\n",
       "    </tr>\n",
       "    <tr>\n",
       "      <td>2000-01-04</td>\n",
       "      <td>-0.034364</td>\n",
       "      <td>-0.088078</td>\n",
       "    </tr>\n",
       "    <tr>\n",
       "      <td>2000-01-05</td>\n",
       "      <td>0.010489</td>\n",
       "      <td>0.014528</td>\n",
       "    </tr>\n",
       "    <tr>\n",
       "      <td>2000-01-06</td>\n",
       "      <td>-0.034072</td>\n",
       "      <td>-0.090514</td>\n",
       "    </tr>\n",
       "    <tr>\n",
       "      <td>2000-01-07</td>\n",
       "      <td>0.012983</td>\n",
       "      <td>0.046281</td>\n",
       "    </tr>\n",
       "    <tr>\n",
       "      <td>2000-01-10</td>\n",
       "      <td>0.007264</td>\n",
       "      <td>-0.017745</td>\n",
       "    </tr>\n",
       "    <tr>\n",
       "      <td>2000-01-11</td>\n",
       "      <td>-0.025946</td>\n",
       "      <td>-0.052505</td>\n",
       "    </tr>\n",
       "    <tr>\n",
       "      <td>2000-01-12</td>\n",
       "      <td>-0.033114</td>\n",
       "      <td>-0.061847</td>\n",
       "    </tr>\n",
       "    <tr>\n",
       "      <td>2000-01-13</td>\n",
       "      <td>0.018725</td>\n",
       "      <td>0.104069</td>\n",
       "    </tr>\n",
       "    <tr>\n",
       "      <td>2000-01-14</td>\n",
       "      <td>0.040335</td>\n",
       "      <td>0.037405</td>\n",
       "    </tr>\n",
       "    <tr>\n",
       "      <td>2000-01-18</td>\n",
       "      <td>0.026918</td>\n",
       "      <td>0.034254</td>\n",
       "    </tr>\n",
       "    <tr>\n",
       "      <td>2000-01-19</td>\n",
       "      <td>-0.074817</td>\n",
       "      <td>0.024942</td>\n",
       "    </tr>\n",
       "    <tr>\n",
       "      <td>2000-01-20</td>\n",
       "      <td>-0.009390</td>\n",
       "      <td>0.063071</td>\n",
       "    </tr>\n",
       "    <tr>\n",
       "      <td>2000-01-21</td>\n",
       "      <td>-0.021455</td>\n",
       "      <td>-0.019461</td>\n",
       "    </tr>\n",
       "    <tr>\n",
       "      <td>2000-01-24</td>\n",
       "      <td>-0.024391</td>\n",
       "      <td>-0.046547</td>\n",
       "    </tr>\n",
       "    <tr>\n",
       "      <td>2000-01-25</td>\n",
       "      <td>0.015314</td>\n",
       "      <td>0.054934</td>\n",
       "    </tr>\n",
       "    <tr>\n",
       "      <td>2000-01-26</td>\n",
       "      <td>-0.034007</td>\n",
       "      <td>-0.018545</td>\n",
       "    </tr>\n",
       "    <tr>\n",
       "      <td>2000-01-27</td>\n",
       "      <td>-0.006309</td>\n",
       "      <td>-0.001703</td>\n",
       "    </tr>\n",
       "    <tr>\n",
       "      <td>2000-01-28</td>\n",
       "      <td>-0.005076</td>\n",
       "      <td>-0.079191</td>\n",
       "    </tr>\n",
       "  </tbody>\n",
       "</table>\n",
       "</div>"
      ],
      "text/plain": [
       "                MSFT      AAPL\n",
       "Date                          \n",
       "1999-12-31       NaN       NaN\n",
       "2000-01-03 -0.001607  0.085034\n",
       "2000-01-04 -0.034364 -0.088078\n",
       "2000-01-05  0.010489  0.014528\n",
       "2000-01-06 -0.034072 -0.090514\n",
       "2000-01-07  0.012983  0.046281\n",
       "2000-01-10  0.007264 -0.017745\n",
       "2000-01-11 -0.025946 -0.052505\n",
       "2000-01-12 -0.033114 -0.061847\n",
       "2000-01-13  0.018725  0.104069\n",
       "2000-01-14  0.040335  0.037405\n",
       "2000-01-18  0.026918  0.034254\n",
       "2000-01-19 -0.074817  0.024942\n",
       "2000-01-20 -0.009390  0.063071\n",
       "2000-01-21 -0.021455 -0.019461\n",
       "2000-01-24 -0.024391 -0.046547\n",
       "2000-01-25  0.015314  0.054934\n",
       "2000-01-26 -0.034007 -0.018545\n",
       "2000-01-27 -0.006309 -0.001703\n",
       "2000-01-28 -0.005076 -0.079191"
      ]
     },
     "execution_count": 61,
     "metadata": {},
     "output_type": "execute_result"
    }
   ],
   "source": [
    "security_returns.head(20)"
   ]
  },
  {
   "cell_type": "code",
   "execution_count": 62,
   "metadata": {},
   "outputs": [
    {
     "data": {
      "text/plain": [
       "0.00011508712580239439"
      ]
     },
     "execution_count": 62,
     "metadata": {},
     "output_type": "execute_result"
    }
   ],
   "source": [
    "security_returns['MSFT'].mean()"
   ]
  },
  {
   "cell_type": "code",
   "execution_count": 63,
   "metadata": {},
   "outputs": [
    {
     "data": {
      "text/plain": [
       "0.028771781450598596"
      ]
     },
     "execution_count": 63,
     "metadata": {},
     "output_type": "execute_result"
    }
   ],
   "source": [
    "security_returns['MSFT'].mean()*250"
   ]
  },
  {
   "cell_type": "code",
   "execution_count": 69,
   "metadata": {},
   "outputs": [
    {
     "data": {
      "text/plain": [
       "0.019656948849403607"
      ]
     },
     "execution_count": 69,
     "metadata": {},
     "output_type": "execute_result"
    }
   ],
   "source": [
    "security_returns['MSFT'].std()"
   ]
  },
  {
   "cell_type": "code",
   "execution_count": 70,
   "metadata": {},
   "outputs": [
    {
     "data": {
      "text/plain": [
       "0.31080365106770774"
      ]
     },
     "execution_count": 70,
     "metadata": {},
     "output_type": "execute_result"
    }
   ],
   "source": [
    "security_returns['MSFT'].std()*250**0.5"
   ]
  },
  {
   "cell_type": "code",
   "execution_count": 65,
   "metadata": {},
   "outputs": [
    {
     "data": {
      "text/plain": [
       "0.000864342049190355"
      ]
     },
     "execution_count": 65,
     "metadata": {},
     "output_type": "execute_result"
    }
   ],
   "source": [
    "security_returns['AAPL'].mean()"
   ]
  },
  {
   "cell_type": "code",
   "execution_count": 66,
   "metadata": {},
   "outputs": [
    {
     "data": {
      "text/plain": [
       "0.21608551229758874"
      ]
     },
     "execution_count": 66,
     "metadata": {},
     "output_type": "execute_result"
    }
   ],
   "source": [
    "security_returns['AAPL'].mean()*250"
   ]
  },
  {
   "cell_type": "code",
   "execution_count": 68,
   "metadata": {},
   "outputs": [
    {
     "data": {
      "text/plain": [
       "0.019656948849403607"
      ]
     },
     "execution_count": 68,
     "metadata": {},
     "output_type": "execute_result"
    }
   ],
   "source": [
    "security_returns['MSFT'].std()"
   ]
  },
  {
   "cell_type": "code",
   "execution_count": 67,
   "metadata": {},
   "outputs": [
    {
     "data": {
      "text/plain": [
       "0.4389547233905951"
      ]
     },
     "execution_count": 67,
     "metadata": {},
     "output_type": "execute_result"
    }
   ],
   "source": [
    "security_returns['AAPL'].std()*250**0.5"
   ]
  },
  {
   "cell_type": "code",
   "execution_count": 71,
   "metadata": {},
   "outputs": [
    {
     "name": "stdout",
     "output_type": "stream",
     "text": [
      "0.028771781450598596\n",
      "0.21608551229758874\n"
     ]
    }
   ],
   "source": [
    "print(security_returns['MSFT'].mean()*250)\n",
    "print(security_returns['AAPL'].mean()*250)"
   ]
  },
  {
   "cell_type": "code",
   "execution_count": 72,
   "metadata": {},
   "outputs": [
    {
     "data": {
      "text/html": [
       "<div>\n",
       "<style scoped>\n",
       "    .dataframe tbody tr th:only-of-type {\n",
       "        vertical-align: middle;\n",
       "    }\n",
       "\n",
       "    .dataframe tbody tr th {\n",
       "        vertical-align: top;\n",
       "    }\n",
       "\n",
       "    .dataframe thead th {\n",
       "        text-align: right;\n",
       "    }\n",
       "</style>\n",
       "<table border=\"1\" class=\"dataframe\">\n",
       "  <thead>\n",
       "    <tr style=\"text-align: right;\">\n",
       "      <th></th>\n",
       "      <th>MSFT</th>\n",
       "      <th>AAPL</th>\n",
       "    </tr>\n",
       "    <tr>\n",
       "      <th>Date</th>\n",
       "      <th></th>\n",
       "      <th></th>\n",
       "    </tr>\n",
       "  </thead>\n",
       "  <tbody>\n",
       "    <tr>\n",
       "      <td>1999-12-31</td>\n",
       "      <td>NaN</td>\n",
       "      <td>NaN</td>\n",
       "    </tr>\n",
       "    <tr>\n",
       "      <td>2000-01-03</td>\n",
       "      <td>-0.001607</td>\n",
       "      <td>0.085034</td>\n",
       "    </tr>\n",
       "    <tr>\n",
       "      <td>2000-01-04</td>\n",
       "      <td>-0.034364</td>\n",
       "      <td>-0.088078</td>\n",
       "    </tr>\n",
       "    <tr>\n",
       "      <td>2000-01-05</td>\n",
       "      <td>0.010489</td>\n",
       "      <td>0.014528</td>\n",
       "    </tr>\n",
       "    <tr>\n",
       "      <td>2000-01-06</td>\n",
       "      <td>-0.034072</td>\n",
       "      <td>-0.090514</td>\n",
       "    </tr>\n",
       "  </tbody>\n",
       "</table>\n",
       "</div>"
      ],
      "text/plain": [
       "                MSFT      AAPL\n",
       "Date                          \n",
       "1999-12-31       NaN       NaN\n",
       "2000-01-03 -0.001607  0.085034\n",
       "2000-01-04 -0.034364 -0.088078\n",
       "2000-01-05  0.010489  0.014528\n",
       "2000-01-06 -0.034072 -0.090514"
      ]
     },
     "execution_count": 72,
     "metadata": {},
     "output_type": "execute_result"
    }
   ],
   "source": [
    "security_returns.head(5)"
   ]
  },
  {
   "cell_type": "code",
   "execution_count": 73,
   "metadata": {},
   "outputs": [
    {
     "data": {
      "text/plain": [
       "MSFT    0.028772\n",
       "AAPL    0.216086\n",
       "dtype: float64"
      ]
     },
     "execution_count": 73,
     "metadata": {},
     "output_type": "execute_result"
    }
   ],
   "source": [
    "security_returns[['MSFT', 'AAPL']].mean()*250"
   ]
  },
  {
   "cell_type": "code",
   "execution_count": 75,
   "metadata": {},
   "outputs": [
    {
     "data": {
      "text/plain": [
       "MSFT    0.001820\n",
       "AAPL    0.013666\n",
       "dtype: float64"
      ]
     },
     "execution_count": 75,
     "metadata": {},
     "output_type": "execute_result"
    }
   ],
   "source": [
    "security_returns[['MSFT', 'AAPL']].mean()*250**0.5"
   ]
  },
  {
   "cell_type": "markdown",
   "metadata": {},
   "source": [
    "#### Portfolio Diversification"
   ]
  },
  {
   "cell_type": "code",
   "execution_count": null,
   "metadata": {},
   "outputs": [],
   "source": []
  }
 ],
 "metadata": {
  "kernelspec": {
   "display_name": "Python 3",
   "language": "python",
   "name": "python3"
  },
  "language_info": {
   "codemirror_mode": {
    "name": "ipython",
    "version": 3
   },
   "file_extension": ".py",
   "mimetype": "text/x-python",
   "name": "python",
   "nbconvert_exporter": "python",
   "pygments_lexer": "ipython3",
   "version": "3.6.9"
  }
 },
 "nbformat": 4,
 "nbformat_minor": 2
}
